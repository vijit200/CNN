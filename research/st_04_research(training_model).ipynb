{
 "cells": [
  {
   "cell_type": "code",
   "execution_count": null,
   "metadata": {},
   "outputs": [],
   "source": []
  }
 ],
 "metadata": {
  "kernelspec": {
   "display_name": "Python 3.8.13 (conda)",
   "language": "python",
   "name": "python3"
  },
  "language_info": {
   "name": "python",
   "version": "3.8.13"
  },
  "orig_nbformat": 4,
  "vscode": {
   "interpreter": {
    "hash": "4dfbf8ce64bf3fd0100906595e8d5c29b958f167070cc5894f10ea68b826d15d"
   }
  }
 },
 "nbformat": 4,
 "nbformat_minor": 2
}
